{
 "cells": [
  {
   "cell_type": "code",
   "execution_count": null,
   "metadata": {
    "collapsed": true
   },
   "outputs": [],
   "source": [
    "%matplotlib inline\n",
    "import pandas as pd\n",
    "import matplotlib.pyplot as plt\n",
    "import numpy as np\n",
    "from IPython.display import Image"
   ]
  },
  {
   "cell_type": "markdown",
   "metadata": {},
   "source": [
    "O objetivo deste notebook é o de encontrar a massa do bozon Z_0 que é da ordem dos\n",
    "$$Z:  91.1876±0.0021\\, GeV/c^2$$\n",
    "através dos dados gerados pelo lhc de uma interação elétron-positron."
   ]
  },
  {
   "cell_type": "markdown",
   "metadata": {},
   "source": [
    "# Analisando os dados:\n",
    "\n",
    "- [ ] Crie uma variável com o destino das tabelas de dados das simulações de monte carlos (muons-taus-eletrons-quarks).\n",
    "- [ ] Carregue as tabelas em dataframe do pandas\n",
    "- [ ] Imprima as tabelas."
   ]
  },
  {
   "cell_type": "code",
   "execution_count": null,
   "metadata": {
    "collapsed": true
   },
   "outputs": [],
   "source": []
  },
  {
   "cell_type": "code",
   "execution_count": 3,
   "metadata": {},
   "outputs": [
    {
     "data": {
      "text/html": [
       "\n",
       "        <script>\n",
       "            function code_toggle_7533855374894783656() {\n",
       "                $('div.cell.code_cell.rendered.selected').find('div.input').toggle();\n",
       "            }\n",
       "\n",
       "            \n",
       "        </script>\n",
       "\n",
       "        <a href=\"javascript:code_toggle_7533855374894783656()\">Toggle show/hide</a>\n",
       "    "
      ],
      "text/plain": [
       "<IPython.core.display.HTML object>"
      ]
     },
     "execution_count": 3,
     "metadata": {},
     "output_type": "execute_result"
    }
   ],
   "source": [
    "'''\n",
    "acol: angle between thrust_pos and thrust_neg\n",
    "\n",
    "thrust: momentum weighted mean direction of all tracks\n",
    "\n",
    "cos_thrust: cosine of angle between thrust axis and beam axis\n",
    "\n",
    "phi_thrust: phi angle of thrust axis\n",
    "\n",
    "cos_thrust_neg/pos: see above but for fermion/anti-fermion\n",
    "\n",
    "d0_mean: mean distance of all tracks to the dectector center in r-phi-plane\n",
    "\n",
    "z0_mean: mean distance of all tracks to the dectector center along z axis (beam axis)\n",
    "\n",
    "e_ecal: energy in ECAL (in GeV)\n",
    "\n",
    "e_hcal: energy in HCAL (in GeV)\n",
    "\n",
    "e_lep: LEP beam energy (in GeV)\n",
    "\n",
    "event: event number\n",
    "\n",
    "run: run number\n",
    "\n",
    "n_charged: number of charged particles (number of tracks)\n",
    "\n",
    "n_ecal: number of entries (hits) in the ECAL\n",
    "\n",
    "n_muons: number of muons found\n",
    "\n",
    "p_charged: scalar sum of all momenta based on tracks found\n",
    "'''\n",
    "\n",
    "hide_toggle()"
   ]
  },
  {
   "cell_type": "markdown",
   "metadata": {},
   "source": [
    "# Separando as partículas:\n",
    "\n",
    "- [ ] Faça o gráficos das 4 tabelas (muons-taus-eletrons-quarks) sobrepostas em um mesmo eixo\n",
    "- [ ] Tente determinar cortes que separem as partículas."
   ]
  },
  {
   "cell_type": "markdown",
   "metadata": {},
   "source": []
  },
  {
   "cell_type": "markdown",
   "metadata": {},
   "source": [
    "# Medindo a eficiência dos cortes\n",
    "- [ ] Faça uma varíavel que receberá um numpy array com as informações de eficiência dos cortes para cada partícula. (teremos 4 vetores com 4 linhas) uma matriz 4x4 ao final."
   ]
  },
  {
   "cell_type": "code",
   "execution_count": null,
   "metadata": {
    "collapsed": true
   },
   "outputs": [],
   "source": []
  },
  {
   "cell_type": "markdown",
   "metadata": {},
   "source": [
    "# ignorar \\/"
   ]
  },
  {
   "cell_type": "code",
   "execution_count": 2,
   "metadata": {
    "collapsed": true
   },
   "outputs": [],
   "source": [
    "from IPython.display import HTML\n",
    "import random\n",
    "\n",
    "def hide_toggle(for_next=False):\n",
    "    this_cell = \"\"\"$('div.cell.code_cell.rendered.selected')\"\"\"\n",
    "    next_cell = this_cell + '.next()'\n",
    "\n",
    "    toggle_text = 'Toggle show/hide'  # text shown on toggle link\n",
    "    target_cell = this_cell  # target cell to control with toggle\n",
    "    js_hide_current = ''  # bit of JS to permanently hide code in current cell (only when toggling next cell)\n",
    "\n",
    "    if for_next:\n",
    "        target_cell = next_cell\n",
    "        toggle_text += ' next cell'\n",
    "        js_hide_current = this_cell + '.find(\"div.input\").hide();'\n",
    "\n",
    "    js_f_name = 'code_toggle_{}'.format(str(random.randint(1,2**64)))\n",
    "\n",
    "    html = \"\"\"\n",
    "        <script>\n",
    "            function {f_name}() {{\n",
    "                {cell_selector}.find('div.input').toggle();\n",
    "            }}\n",
    "\n",
    "            {js_hide_current}\n",
    "        </script>\n",
    "\n",
    "        <a href=\"javascript:{f_name}()\">{toggle_text}</a>\n",
    "    \"\"\".format(\n",
    "        f_name=js_f_name,\n",
    "        cell_selector=target_cell,\n",
    "        js_hide_current=js_hide_current, \n",
    "        toggle_text=toggle_text\n",
    "    )\n",
    "\n",
    "    return HTML(html)"
   ]
  },
  {
   "cell_type": "code",
   "execution_count": null,
   "metadata": {
    "collapsed": true
   },
   "outputs": [],
   "source": []
  }
 ],
 "metadata": {
  "kernelspec": {
   "display_name": "Python 3",
   "language": "python",
   "name": "python3"
  },
  "language_info": {
   "codemirror_mode": {
    "name": "ipython",
    "version": 3
   },
   "file_extension": ".py",
   "mimetype": "text/x-python",
   "name": "python",
   "nbconvert_exporter": "python",
   "pygments_lexer": "ipython3",
   "version": "3.6.3"
  }
 },
 "nbformat": 4,
 "nbformat_minor": 2
}
