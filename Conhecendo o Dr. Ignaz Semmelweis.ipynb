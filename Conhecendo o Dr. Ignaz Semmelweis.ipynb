{
 "cells": [
  {
   "cell_type": "markdown",
   "metadata": {},
   "source": [
    "1. *Conhecendo o Dr. Ignaz Semmelweis*\n",
    "---\n",
    "\n",
    "\n",
    "<img src='https://upload.wikimedia.org/wikipedia/commons/thumb/f/f8/Ignaz_Semmelweis_1860.jpg/225px-Ignaz_Semmelweis_1860.jpg'>\n",
    "\n",
    "Esse doutor da foto se chama Ignaz Semmelweis, um médico Hungaro nascido em 1818 que trabalhava no hospital geral de Vienna. O olhar com mistura de tristeza e seriedade do Dr. Semmelweis, provalmente é motivado por estar pensando em seus estudos sobre a \"a febre dos recem-nascidos\", uma doença que em sua época afetava mulheres que haviam dado a luz. Seus estudos começaram por meiados nos anos 1840 no hospital em que trabalhava, pois, mais de 10% das mulheres que realizavam trabalho de parto em seu hospital morriam de febre. Ele pensava sobre o assunto, pois entendi o motivo das mortes: Era uma contaminação das mãos dos médicos, e mesmo conversando com outros médicos sobre a importancia de lavar as mãos antes dos procedimentos cirurgicos, os médicos não os dava ouvidos.\n",
    "\n",
    "Esse notebook tem como objetivo fazer uma re-análise dos dados coletados pelo proprorio Sr. Semmelweis que demonstrou a importancia de se lavar as mãos."
   ]
  },
  {
   "cell_type": "markdown",
   "metadata": {
    "collapsed": true
   },
   "source": [
    "## Tarefas\n",
    "\n",
    "- [  ] Importar o modulo pandas como pd\n",
    "- [  ] Ler o arquivo com os dados que estão no diretório '../DataScience/datas/doctor/birth_deaths_by_clinic.csv'\n",
    "- [  ] Imprimir os dados."
   ]
  },
  {
   "cell_type": "code",
   "execution_count": 1,
   "metadata": {
    "collapsed": true
   },
   "outputs": [],
   "source": [
    "%matplotlib inline "
   ]
  },
  {
   "cell_type": "markdown",
   "metadata": {
    "collapsed": true
   },
   "source": [
    "## 2. Um número alarmante de mortes.\n",
    "Observe que a tabela mostra o numero de mulheres que tiveram filhos em duas clinicas distintas do hospital de Vienna entre os anos de 1841 à 1846. Pode-se perceber que ao ter filhos a taxa de mortalidade é muito alta, muitas mulheres morriam ao dar a luz, morte essa motivada principalmente pela febre do recem-nascido.\n",
    "\n",
    "Para vermos os dados de forma mais clara, faremos uma proporção de quantas mulheres morrem ao dar a luz."
   ]
  },
  {
   "cell_type": "markdown",
   "metadata": {},
   "source": [
    "Com os dados carregados, faça:\n",
    "\n",
    "- [ ] Crie uma nova coluna. Ela deve se chamar (media_morte_nasc).\n",
    "- [ ] media_morte_nasc que receberá a porcentagem de mulheres que morrem ao dar a luz.\n",
    "- [ ] Separe os dados das clinicas em 2 grupos: Linhas da Clinica 1 Para data_clinica1 e os da clinica 2 para data_clinica2\n"
   ]
  },
  {
   "cell_type": "code",
   "execution_count": null,
   "metadata": {
    "collapsed": true,
    "scrolled": true
   },
   "outputs": [],
   "source": []
  },
  {
   "cell_type": "code",
   "execution_count": null,
   "metadata": {
    "collapsed": true
   },
   "outputs": [],
   "source": []
  },
  {
   "cell_type": "markdown",
   "metadata": {},
   "source": [
    "## 3. Visualizando os dados !\n",
    "Agora que nossas variáveis estão separadas, fica mais facil realizar um grafico com elas. Vamos plotar-lo usando a biblioteca matlibplot !\n",
    "\n"
   ]
  },
  {
   "cell_type": "markdown",
   "metadata": {},
   "source": [
    "## Tarefas\n",
    "\n",
    "- [ ] Plotar media_morte_nasc por ano das duas clinicas utilizando o método dataFrame plot\n",
    "- [ ] Utilize label's no grafico !\n",
    "- [ ] Nomear o eixo y: eixo.set_ylabel('Label')"
   ]
  },
  {
   "cell_type": "code",
   "execution_count": null,
   "metadata": {
    "collapsed": true
   },
   "outputs": [],
   "source": [
    "# This makes plots appear in the notebook\n",
    "%matplotlib inline \n",
    "\n",
    "#DataFrame.plot(x=None, y=None, kind='line', ax=None, subplots=False, sharex=None, sharey=False, layout=None,\n",
    "#figsize=None, use_index=True, title=None, grid=None, legend=True, style=None, logx=False, logy=False, loglog=False,\n",
    "#xticks=None, yticks=None, xlim=None, ylim=None, rot=None, fontsize=None, colormap=None, table=False, yerr=None,\n",
    "#xerr=None, secondary_y=False, sort_columns=False, **kwds)\n",
    "\n",
    "\n"
   ]
  },
  {
   "cell_type": "markdown",
   "metadata": {},
   "source": [
    "## 4. Início da asspesia.\n",
    "\n",
    "<img src='https://assetsnffrgf-a.akamaihd.net/assets/m/102016087/univ/art/102016087_univ_cnt_2_xl.jpg', style='width:50%'>\n",
    "\n",
    "Por que a proporção de mortes é tão maior na clinica 1?\n",
    "\n",
    "No início de 1847, um amigo e colega de trabalho de Ignaz, chamado Jakob Kolletschka, morreu por causa de uma infecção generalizada. Ele se machucou enquanto examinava um cadáver e foi contaminado. Ignaz leu o relatório da causa da morte do seu amigo. Alguns dos resultados eram idênticos aos das mulheres que morriam de febre do pós-parto. Assim, Ignaz percebeu que talvez fosse algum tipo de contaminação que vinha dos  cadáveres que causava aquela doença. Os médicos e estudantes de medicina muitas vezes mexiam com cadáveres antes de examinar as mulheres grávidas ou de auxiliar as que estavam em trabalho de parto. Sem saber, eles estavam transmitindo a doença àquelas mulheres. O número de mães que morria na segunda maternidade era menor porque os alunos do curso de partos não mexiam com cadáveres.\n",
    "\n",
    "Semmelweis comecou a desconfiar que tinha alguma coisa nos cadáveres, que ficava impregnado nas mãos dos médicos e que causavam a febre. Então como uma medida de desespero, ele decretou que todos deveriam lavar as mãos. Ninguém em Vienna sabia sobre bactérias naquele tempo.\n",
    "\n",
    "Vamos analizar os dados do relatório mensal de Semmelweis, afim de examinar o que suas medidas acarretaram."
   ]
  },
  {
   "cell_type": "markdown",
   "metadata": {},
   "source": [
    "## Tarefas\n",
    "\n",
    "- [ ] Ler o arquivo com os dados que estão no diretório '../datas/doctor/monthly_deaths.csv' na variavel dadosMes\n",
    "- [ ] Calcule a relação de mortes por nascimento em uma nova variável na lista.\n",
    "- [ ] Faça o grafico de mortes em relação ao tempo.\n"
   ]
  },
  {
   "cell_type": "code",
   "execution_count": null,
   "metadata": {
    "collapsed": true
   },
   "outputs": [],
   "source": []
  },
  {
   "cell_type": "markdown",
   "metadata": {},
   "source": [
    "## 5. O resultado de lavar as mãos.\n",
    "Com os dados dos meses carregados, podemos perceber a relação de mortes com o tempo. \n",
    "\n",
    "Podemos ver que a mortalidade das mães diminuiu drasticamente. Esse resultado foi graças a influencia de Semmelweis que tornou obrigatório apartir do verão de 1847, lavar as mãos. Esse efeito pode ser melhor evidenciado ao detarcar-mos esse periodo no gráfico."
   ]
  },
  {
   "cell_type": "markdown",
   "metadata": {},
   "source": [
    " ## Tarefas\n",
    "\n",
    "- [ ] Crie uma variavel contendo a data de inicio dos procedimentos médicos que recebe o valor pd.to_datetime('1847-06-01').\n",
    "- [ ] Criar uma variável que contem os dados de proporção de mortes antes e depois da mudança.\n",
    "- [ ] Utilize o método de média.\n",
    "- [ ] Crie uma variável contendo diferença entre as médias.\n"
   ]
  },
  {
   "cell_type": "code",
   "execution_count": null,
   "metadata": {
    "collapsed": true
   },
   "outputs": [],
   "source": []
  },
  {
   "cell_type": "markdown",
   "metadata": {},
   "source": [
    "## 6. Então lavar as mãos reduziu a mortalidade para as mães? em quantas mortes?\n",
    "\n",
    "Na média, quanto foi a redução de mortes em comparação aos dois períodos?"
   ]
  },
  {
   "cell_type": "markdown",
   "metadata": {},
   "source": [
    "## Tarefas\n",
    "\n",
    "- [ ] Utilize o método de média na proporção de mortes antes e depois da rotina médica de lavar as mãos.\n",
    "- [ ] Crie uma variável contendo diferença entre as médias ( df['name'].median() )\n"
   ]
  },
  {
   "cell_type": "code",
   "execution_count": null,
   "metadata": {
    "collapsed": true
   },
   "outputs": [],
   "source": []
  },
  {
   "cell_type": "markdown",
   "metadata": {},
   "source": [
    "## 7. O destino do Dr. Semmelweis\n",
    "\n",
    "Percebermos que lavar as mãos reduz a mortalidade de mães em quase 10 pontos percentuais, parece que Semmelweis tinha provas sólidas de que a lavagem das mãos era um procedimento simples, mas altamente eficaz, que poderia salvar muitas vidas. Porém, tradigamente, apesar das evidencias, a teoria de Semmelweis sobre a febre do parto que era causada por alguma substancia (que hoje conhecemos como bactérias) adquirida através das autopsias foi ridicularizada pelos cientistas de sua época. A comunidade médica rejeitou sua descobertas e Semmelweis foi forçado em 1849 a se retirar do hospital.\n",
    "\n",
    "Uma razão para isso, é que métodos estatisticos, assim como argumentos estatíscos não eram aceitos na comunidade médica dos anos de 1800. Sommelweis só publicou seus dados como extensas tabelas de dados brutos, sem realizar qualquer gráfico ou intervalos de confiança. Talvez, se tivesse tido o conhecimento da análise que fizemos hoje, os médicos de Viennese tiream dado mais credibilidade a seu trabalho."
   ]
  },
  {
   "cell_type": "code",
   "execution_count": null,
   "metadata": {
    "collapsed": true
   },
   "outputs": [],
   "source": [
    "doutores_devem_lavar_as_maos = ;"
   ]
  },
  {
   "cell_type": "code",
   "execution_count": null,
   "metadata": {
    "collapsed": true
   },
   "outputs": [],
   "source": []
  }
 ],
 "metadata": {
  "kernelspec": {
   "display_name": "Python 3",
   "language": "python",
   "name": "python3"
  },
  "language_info": {
   "codemirror_mode": {
    "name": "ipython",
    "version": 3
   },
   "file_extension": ".py",
   "mimetype": "text/x-python",
   "name": "python",
   "nbconvert_exporter": "python",
   "pygments_lexer": "ipython3",
   "version": "3.6.3"
  }
 },
 "nbformat": 4,
 "nbformat_minor": 2
}
